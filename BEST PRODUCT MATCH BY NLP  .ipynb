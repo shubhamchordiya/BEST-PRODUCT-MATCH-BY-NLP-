{
 "cells": [
  {
   "cell_type": "code",
   "execution_count": 27,
   "metadata": {},
   "outputs": [],
   "source": [
    "import numpy as np\n",
    "import pandas as pd\n",
    "import openpyxl\n",
    "import re as re"
   ]
  },
  {
   "cell_type": "code",
   "execution_count": 28,
   "metadata": {},
   "outputs": [],
   "source": [
    "df1=pd.read_excel('manuf_data.xlsx',engine='openpyxl')\n",
    "df2=pd.read_excel('retailer_data.xlsx',engine='openpyxl')"
   ]
  },
  {
   "cell_type": "code",
   "execution_count": 29,
   "metadata": {},
   "outputs": [
    {
     "data": {
      "text/html": [
       "<div>\n",
       "<style scoped>\n",
       "    .dataframe tbody tr th:only-of-type {\n",
       "        vertical-align: middle;\n",
       "    }\n",
       "\n",
       "    .dataframe tbody tr th {\n",
       "        vertical-align: top;\n",
       "    }\n",
       "\n",
       "    .dataframe thead th {\n",
       "        text-align: right;\n",
       "    }\n",
       "</style>\n",
       "<table border=\"1\" class=\"dataframe\">\n",
       "  <thead>\n",
       "    <tr style=\"text-align: right;\">\n",
       "      <th></th>\n",
       "      <th>prod_id</th>\n",
       "      <th>Description</th>\n",
       "    </tr>\n",
       "  </thead>\n",
       "  <tbody>\n",
       "    <tr>\n",
       "      <th>0</th>\n",
       "      <td>355</td>\n",
       "      <td>Mexifiz Shampoo Intensive Repair 400ml</td>\n",
       "    </tr>\n",
       "    <tr>\n",
       "      <th>1</th>\n",
       "      <td>356</td>\n",
       "      <td>Mexifiz Shampoo Intensive Repair 400ml</td>\n",
       "    </tr>\n",
       "    <tr>\n",
       "      <th>2</th>\n",
       "      <td>381</td>\n",
       "      <td>Cbv Shampoo Moisture Rich 900ml</td>\n",
       "    </tr>\n",
       "    <tr>\n",
       "      <th>3</th>\n",
       "      <td>382</td>\n",
       "      <td>Cbv Shampoo Moisture Rich 900ml</td>\n",
       "    </tr>\n",
       "    <tr>\n",
       "      <th>4</th>\n",
       "      <td>426</td>\n",
       "      <td>Cbvery Hairspray Extra Hold 400ml</td>\n",
       "    </tr>\n",
       "  </tbody>\n",
       "</table>\n",
       "</div>"
      ],
      "text/plain": [
       "   prod_id                             Description\n",
       "0      355  Mexifiz Shampoo Intensive Repair 400ml\n",
       "1      356  Mexifiz Shampoo Intensive Repair 400ml\n",
       "2      381         Cbv Shampoo Moisture Rich 900ml\n",
       "3      382         Cbv Shampoo Moisture Rich 900ml\n",
       "4      426       Cbvery Hairspray Extra Hold 400ml"
      ]
     },
     "execution_count": 29,
     "metadata": {},
     "output_type": "execute_result"
    }
   ],
   "source": [
    "df1.head()"
   ]
  },
  {
   "cell_type": "code",
   "execution_count": 30,
   "metadata": {},
   "outputs": [
    {
     "data": {
      "text/html": [
       "<div>\n",
       "<style scoped>\n",
       "    .dataframe tbody tr th:only-of-type {\n",
       "        vertical-align: middle;\n",
       "    }\n",
       "\n",
       "    .dataframe tbody tr th {\n",
       "        vertical-align: top;\n",
       "    }\n",
       "\n",
       "    .dataframe thead th {\n",
       "        text-align: right;\n",
       "    }\n",
       "</style>\n",
       "<table border=\"1\" class=\"dataframe\">\n",
       "  <thead>\n",
       "    <tr style=\"text-align: right;\">\n",
       "      <th></th>\n",
       "      <th>ret_prod_id</th>\n",
       "      <th>Product_Description</th>\n",
       "    </tr>\n",
       "  </thead>\n",
       "  <tbody>\n",
       "    <tr>\n",
       "      <th>0</th>\n",
       "      <td>188</td>\n",
       "      <td>Oddaced Give Me Moisture Shampoo 250ml</td>\n",
       "    </tr>\n",
       "    <tr>\n",
       "      <th>1</th>\n",
       "      <td>334</td>\n",
       "      <td>Cbvery Freeze Hold Hairspray 400ml</td>\n",
       "    </tr>\n",
       "    <tr>\n",
       "      <th>2</th>\n",
       "      <td>328</td>\n",
       "      <td>Cbvery Firm Hold Hairspray 400ml</td>\n",
       "    </tr>\n",
       "    <tr>\n",
       "      <th>3</th>\n",
       "      <td>203</td>\n",
       "      <td>Oddaced Ultimate Hold Hairspray 400ml</td>\n",
       "    </tr>\n",
       "    <tr>\n",
       "      <th>4</th>\n",
       "      <td>324</td>\n",
       "      <td>Cbvery Extra Hold Hairspray 400ml</td>\n",
       "    </tr>\n",
       "  </tbody>\n",
       "</table>\n",
       "</div>"
      ],
      "text/plain": [
       "   ret_prod_id                     Product_Description\n",
       "0          188  Oddaced Give Me Moisture Shampoo 250ml\n",
       "1          334      Cbvery Freeze Hold Hairspray 400ml\n",
       "2          328        Cbvery Firm Hold Hairspray 400ml\n",
       "3          203   Oddaced Ultimate Hold Hairspray 400ml\n",
       "4          324       Cbvery Extra Hold Hairspray 400ml"
      ]
     },
     "execution_count": 30,
     "metadata": {},
     "output_type": "execute_result"
    }
   ],
   "source": [
    "df2.head()"
   ]
  },
  {
   "cell_type": "code",
   "execution_count": 31,
   "metadata": {},
   "outputs": [],
   "source": [
    "df1['Description'] = df1['Description'].str.rstrip('ml')   #Remove some words\n",
    "df2['Product_Description'] = df2['Product_Description'].str.rstrip('ml')   #Remove some words"
   ]
  },
  {
   "cell_type": "code",
   "execution_count": 32,
   "metadata": {},
   "outputs": [],
   "source": [
    "#Make New Column as Quantity"
   ]
  },
  {
   "cell_type": "code",
   "execution_count": null,
   "metadata": {},
   "outputs": [],
   "source": []
  },
  {
   "cell_type": "code",
   "execution_count": null,
   "metadata": {},
   "outputs": [],
   "source": []
  },
  {
   "cell_type": "code",
   "execution_count": 33,
   "metadata": {},
   "outputs": [
    {
     "name": "stdout",
     "output_type": "stream",
     "text": [
      "\\Extracting 'Product Name' from Description:\n"
     ]
    }
   ],
   "source": [
    "#Find Product name\n",
    "def find_word(text):\n",
    "    word = re.findall(r\"[a-zA-z]+\",text)\n",
    "    return \" \".join(word)\n",
    "df1['manuf_product']=df1['Description'].apply(lambda x: find_word(x))\n",
    "print(\"\\Extracting 'Product Name' from Description:\")"
   ]
  },
  {
   "cell_type": "code",
   "execution_count": 34,
   "metadata": {},
   "outputs": [
    {
     "name": "stdout",
     "output_type": "stream",
     "text": [
      "\\Extracting 'Product Name' from Description:\n"
     ]
    }
   ],
   "source": [
    "#Find Product name\n",
    "def find_word(text):\n",
    "    word = re.findall(r\"[a-zA-z]+\",text)\n",
    "    return \" \".join(word)\n",
    "df2['retailer_product']=df2['Product_Description'].apply(lambda x: find_word(x))\n",
    "print(\"\\Extracting 'Product Name' from Description:\")"
   ]
  },
  {
   "cell_type": "code",
   "execution_count": 35,
   "metadata": {},
   "outputs": [],
   "source": [
    "df1.drop(['Description'], axis=1, inplace = True)\n",
    "df2.drop(['Product_Description'], axis=1, inplace = True)"
   ]
  },
  {
   "cell_type": "code",
   "execution_count": 36,
   "metadata": {},
   "outputs": [
    {
     "data": {
      "text/html": [
       "<div>\n",
       "<style scoped>\n",
       "    .dataframe tbody tr th:only-of-type {\n",
       "        vertical-align: middle;\n",
       "    }\n",
       "\n",
       "    .dataframe tbody tr th {\n",
       "        vertical-align: top;\n",
       "    }\n",
       "\n",
       "    .dataframe thead th {\n",
       "        text-align: right;\n",
       "    }\n",
       "</style>\n",
       "<table border=\"1\" class=\"dataframe\">\n",
       "  <thead>\n",
       "    <tr style=\"text-align: right;\">\n",
       "      <th></th>\n",
       "      <th>prod_id</th>\n",
       "      <th>manuf_product</th>\n",
       "    </tr>\n",
       "  </thead>\n",
       "  <tbody>\n",
       "    <tr>\n",
       "      <th>0</th>\n",
       "      <td>355</td>\n",
       "      <td>Mexifiz Shampoo Intensive Repair</td>\n",
       "    </tr>\n",
       "    <tr>\n",
       "      <th>1</th>\n",
       "      <td>356</td>\n",
       "      <td>Mexifiz Shampoo Intensive Repair</td>\n",
       "    </tr>\n",
       "    <tr>\n",
       "      <th>2</th>\n",
       "      <td>381</td>\n",
       "      <td>Cbv Shampoo Moisture Rich</td>\n",
       "    </tr>\n",
       "    <tr>\n",
       "      <th>3</th>\n",
       "      <td>382</td>\n",
       "      <td>Cbv Shampoo Moisture Rich</td>\n",
       "    </tr>\n",
       "    <tr>\n",
       "      <th>4</th>\n",
       "      <td>426</td>\n",
       "      <td>Cbvery Hairspray Extra Hold</td>\n",
       "    </tr>\n",
       "  </tbody>\n",
       "</table>\n",
       "</div>"
      ],
      "text/plain": [
       "   prod_id                     manuf_product\n",
       "0      355  Mexifiz Shampoo Intensive Repair\n",
       "1      356  Mexifiz Shampoo Intensive Repair\n",
       "2      381         Cbv Shampoo Moisture Rich\n",
       "3      382         Cbv Shampoo Moisture Rich\n",
       "4      426       Cbvery Hairspray Extra Hold"
      ]
     },
     "execution_count": 36,
     "metadata": {},
     "output_type": "execute_result"
    }
   ],
   "source": [
    "df1.head()\n",
    "#df2.head()"
   ]
  },
  {
   "cell_type": "code",
   "execution_count": 37,
   "metadata": {},
   "outputs": [
    {
     "data": {
      "text/plain": [
       "Cbv         193\n",
       "Shampoo     127\n",
       "Bot         123\n",
       "Co          101\n",
       "Oddaced      62\n",
       "Mexifiz      51\n",
       "Fiur         37\n",
       "Colour       33\n",
       "Hold         31\n",
       "Moisture     30\n",
       "dtype: int64"
      ]
     },
     "execution_count": 37,
     "metadata": {},
     "output_type": "execute_result"
    }
   ],
   "source": [
    "df1.manuf_product.str.split(expand=True).stack().value_counts().head(10)"
   ]
  },
  {
   "cell_type": "code",
   "execution_count": 38,
   "metadata": {},
   "outputs": [
    {
     "data": {
      "text/plain": [
       "Mexifiz        104\n",
       "Shampoo         69\n",
       "for             67\n",
       "Cbvery          60\n",
       "Good            50\n",
       "Parrot          47\n",
       "Hair            46\n",
       "Conditioner     44\n",
       "Anti            42\n",
       "Fiur            42\n",
       "dtype: int64"
      ]
     },
     "execution_count": 38,
     "metadata": {},
     "output_type": "execute_result"
    }
   ],
   "source": [
    "df2.retailer_product.str.split(expand=True).stack().value_counts().head(10)"
   ]
  },
  {
   "cell_type": "markdown",
   "metadata": {},
   "source": [
    "# Used Name Entity Recognition To Find Product Name "
   ]
  },
  {
   "cell_type": "code",
   "execution_count": 39,
   "metadata": {},
   "outputs": [],
   "source": [
    "import spacy\n",
    "from collections import Counter\n",
    "import en_core_web_sm\n",
    "nlp = en_core_web_sm.load()\n",
    "%matplotlib inline"
   ]
  },
  {
   "cell_type": "code",
   "execution_count": 40,
   "metadata": {},
   "outputs": [
    {
     "data": {
      "text/html": [
       "<div>\n",
       "<style scoped>\n",
       "    .dataframe tbody tr th:only-of-type {\n",
       "        vertical-align: middle;\n",
       "    }\n",
       "\n",
       "    .dataframe tbody tr th {\n",
       "        vertical-align: top;\n",
       "    }\n",
       "\n",
       "    .dataframe thead th {\n",
       "        text-align: right;\n",
       "    }\n",
       "</style>\n",
       "<table border=\"1\" class=\"dataframe\">\n",
       "  <thead>\n",
       "    <tr style=\"text-align: right;\">\n",
       "      <th></th>\n",
       "      <th>ret_prod_id</th>\n",
       "      <th>retailer_product</th>\n",
       "    </tr>\n",
       "  </thead>\n",
       "  <tbody>\n",
       "    <tr>\n",
       "      <th>0</th>\n",
       "      <td>188</td>\n",
       "      <td>Oddaced Give Me Moisture Shampoo</td>\n",
       "    </tr>\n",
       "  </tbody>\n",
       "</table>\n",
       "</div>"
      ],
      "text/plain": [
       "   ret_prod_id                  retailer_product\n",
       "0          188  Oddaced Give Me Moisture Shampoo"
      ]
     },
     "execution_count": 40,
     "metadata": {},
     "output_type": "execute_result"
    }
   ],
   "source": [
    "df2.head(1)"
   ]
  },
  {
   "cell_type": "code",
   "execution_count": 41,
   "metadata": {},
   "outputs": [
    {
     "data": {
      "text/plain": [
       "0    [Mexifiz, Shampoo, Intensive, Repair]\n",
       "1    [Mexifiz, Shampoo, Intensive, Repair]\n",
       "2           [Cbv, Shampoo, Moisture, Rich]\n",
       "3           [Cbv, Shampoo, Moisture, Rich]\n",
       "4         [Cbvery, Hairspray, Extra, Hold]\n",
       "Name: manuf_product, dtype: object"
      ]
     },
     "execution_count": 41,
     "metadata": {},
     "output_type": "execute_result"
    }
   ],
   "source": [
    "tweetText = df1['manuf_product']\n",
    "from nltk.tokenize import word_tokenize\n",
    "\n",
    "tweetText = tweetText.apply(word_tokenize)\n",
    "tweetText.head()"
   ]
  },
  {
   "cell_type": "code",
   "execution_count": 42,
   "metadata": {},
   "outputs": [
    {
     "data": {
      "text/plain": [
       "0    [Oddaced, Give, Me, Moisture, Shampoo]\n",
       "1         [Cbvery, Freeze, Hold, Hairspray]\n",
       "2           [Cbvery, Firm, Hold, Hairspray]\n",
       "3      [Oddaced, Ultimate, Hold, Hairspray]\n",
       "4          [Cbvery, Extra, Hold, Hairspray]\n",
       "Name: retailer_product, dtype: object"
      ]
     },
     "execution_count": 42,
     "metadata": {},
     "output_type": "execute_result"
    }
   ],
   "source": [
    "tweetText = df2['retailer_product']\n",
    "from nltk.tokenize import word_tokenize\n",
    "\n",
    "tweetText2 = tweetText.apply(word_tokenize)\n",
    "tweetText2.head()"
   ]
  },
  {
   "cell_type": "code",
   "execution_count": 43,
   "metadata": {},
   "outputs": [],
   "source": [
    "tokens= []\n",
    "for i in tweetText:\n",
    "    for j in i:\n",
    "        tokens.append(j)  \n",
    "tokens2 = []\n",
    "for i in tweetText2:\n",
    "    for j in i:\n",
    "        tokens2.append(j)        "
   ]
  },
  {
   "cell_type": "code",
   "execution_count": 44,
   "metadata": {},
   "outputs": [],
   "source": [
    "# # Function to convert   \n",
    "# def listToString(s):  \n",
    "    \n",
    "#     # initialize an empty string \n",
    "#     str1 = \" \" \n",
    "    \n",
    "#     # return string   \n",
    "#     return (str1.join(s)) \n",
    "# a = listToString(tokens)\n",
    "\n",
    "# doc = nlp(a)\n",
    "# a\n",
    "# #doc = nlp('European authorities fined Google a record $5.1 billion on Wednesday for abusing its power in the mobile phone market and ordered the company to alter its practices')\n",
    "# print([(X.text, X.label_) for X in doc.ents])"
   ]
  },
  {
   "cell_type": "code",
   "execution_count": 45,
   "metadata": {
    "scrolled": true
   },
   "outputs": [],
   "source": [
    "tokens = nlp(''.join(str(df1.manuf_product.tolist())))\n",
    "#tokens\n",
    "tokens2 = nlp(''.join(str(df2.retailer_product.tolist())))"
   ]
  },
  {
   "cell_type": "code",
   "execution_count": 46,
   "metadata": {},
   "outputs": [
    {
     "data": {
      "text/plain": [
       "[(\"Cbv Co Moisture Rich Bot'\", 8),\n",
       " (\"'Cbv Shampoo Deep Cleansing'\", 7),\n",
       " (\"Cbv Shampoo Keratin'\", 7),\n",
       " (\"'Cbv Shampoo Colour Revitalising'\", 7),\n",
       " (\"'Cbv Shampoo Moisture Rich'\", 5),\n",
       " (\"Cbv Co Repair protect Bot'\", 5),\n",
       " (\"'Cbv Shampoo Salon Silk'\", 5),\n",
       " (\"'Cbv Shampoo Hour Body'\", 5),\n",
       " (\"'Cbv Co Hour Body Bot'\", 5),\n",
       " (\"'Cbv Co Keratin Bot'\", 4)]"
      ]
     },
     "execution_count": 46,
     "metadata": {},
     "output_type": "execute_result"
    }
   ],
   "source": [
    "#extract entity\n",
    "items = [x.text for x in tokens.ents]\n",
    "Counter(items).most_common(10)"
   ]
  },
  {
   "cell_type": "code",
   "execution_count": 47,
   "metadata": {},
   "outputs": [
    {
     "data": {
      "text/plain": [
       "[(\"Deodorant Aerosol'\", 8),\n",
       " (\"'Twicebeaut Muru Muru Butter\", 6),\n",
       " ('Deodorant Spray', 5),\n",
       " (\"Mexifiz Intensive Body Lotion'\", 4),\n",
       " ('Deodorant Roll', 4),\n",
       " ('Parrot Africa', 4),\n",
       " (\"Replenish Shampoo'\", 3),\n",
       " ('Shampoo', 3),\n",
       " ('Mexifiz Invisible Dry', 3),\n",
       " (\"Replenish Conditioner'\", 3)]"
      ]
     },
     "execution_count": 47,
     "metadata": {},
     "output_type": "execute_result"
    }
   ],
   "source": [
    "#extract entity\n",
    "items = [x.text for x in tokens2.ents]\n",
    "Counter(items).most_common(10)"
   ]
  },
  {
   "cell_type": "code",
   "execution_count": 51,
   "metadata": {
    "scrolled": true
   },
   "outputs": [],
   "source": [
    "#Extracting Named Entity\n",
    "product_list = []\n",
    "for ent in tokens.ents:\n",
    "    if ent.label_ == 'ORG':\n",
    "        product_list.append(ent.text)\n",
    "product_counts = Counter(product_list).most_common(100)\n",
    "df_product = pd.DataFrame(product_counts, columns = ['text', 'count'])"
   ]
  },
  {
   "cell_type": "code",
   "execution_count": 53,
   "metadata": {},
   "outputs": [],
   "source": [
    "#Extracting Named Entity\n",
    "product_list2 = []\n",
    "for ent in tokens2.ents:\n",
    "    if ent.label_ == 'ORG':\n",
    "        product_list2.append(ent.text)\n",
    "product_counts = Counter(product_list).most_common(100)\n",
    "df_product2 = pd.DataFrame(product_counts, columns = ['text', 'count'])\n"
   ]
  },
  {
   "cell_type": "code",
   "execution_count": 54,
   "metadata": {},
   "outputs": [
    {
     "data": {
      "text/plain": [
       "28"
      ]
     },
     "execution_count": 54,
     "metadata": {},
     "output_type": "execute_result"
    }
   ],
   "source": [
    "count = 0\n",
    "for i in df_product['text']:\n",
    "    for j in df_product2['text']:\n",
    "        if i == j:\n",
    "            count = count + 1\n",
    "count            "
   ]
  },
  {
   "cell_type": "markdown",
   "metadata": {},
   "source": [
    "# 28 Products are best possible match on both side. \n"
   ]
  }
 ],
 "metadata": {
  "kernelspec": {
   "display_name": "Python 3",
   "language": "python",
   "name": "python3"
  },
  "language_info": {
   "codemirror_mode": {
    "name": "ipython",
    "version": 3
   },
   "file_extension": ".py",
   "mimetype": "text/x-python",
   "name": "python",
   "nbconvert_exporter": "python",
   "pygments_lexer": "ipython3",
   "version": "3.7.2"
  }
 },
 "nbformat": 4,
 "nbformat_minor": 4
}
